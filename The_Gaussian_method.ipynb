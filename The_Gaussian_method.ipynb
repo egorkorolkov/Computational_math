{
  "nbformat": 4,
  "nbformat_minor": 0,
  "metadata": {
    "colab": {
      "provenance": []
    },
    "kernelspec": {
      "name": "python3",
      "display_name": "Python 3"
    },
    "language_info": {
      "name": "python"
    }
  },
  "cells": [
    {
      "cell_type": "code",
      "execution_count": 101,
      "metadata": {
        "id": "Dn0wQ6GQ8xhA"
      },
      "outputs": [],
      "source": [
        "import numpy as np\n",
        "import math"
      ]
    },
    {
      "cell_type": "code",
      "source": [
        "def swap_columns(matrix, i, j):\n",
        "    matrix[:, [i, j]] = matrix[:, [j, i]]\n",
        "\n",
        "def permutation(matrix):\n",
        "    n = matrix.shape[1]\n",
        "    Q = np.eye(n)\n",
        "    for i in range(n - 1):\n",
        "        max = matrix[i][i]\n",
        "        for j in range(i, n):\n",
        "            if max < matrix[i][j]:\n",
        "                max = matrix[i][j]\n",
        "                swap_columns(Q, i, j)\n",
        "                swap_columns(matrix, i, j)\n",
        "    return Q, matrix"
      ],
      "metadata": {
        "id": "6HqxbCiaSi8F"
      },
      "execution_count": 102,
      "outputs": []
    },
    {
      "cell_type": "code",
      "source": [
        "def get_LU(a):\n",
        "    # пустая матрица\n",
        "    lu_matrix = np.matrix(np.zeros([a.shape[0], a.shape[1]]))\n",
        "    n = a.shape[0]\n",
        "\n",
        "    for k in range(n):\n",
        "        # рассчитыаем все остаточные элементы k-го ряда\n",
        "        for j in range(k, n):\n",
        "            lu_matrix[k, j] = a[k, j] - lu_matrix[k, :k] * lu_matrix[:k, j]\n",
        "        # рассчитываем все остаточные элеметны k-столбца\n",
        "        for i in range(k + 1, n):\n",
        "            lu_matrix[i, k] = (a[i, k] - lu_matrix[i, : k] * lu_matrix[: k, k]) / lu_matrix[k, k]\n",
        "\n",
        "    return lu_matrix"
      ],
      "metadata": {
        "id": "tKCPOImj-Uq8"
      },
      "execution_count": 103,
      "outputs": []
    },
    {
      "cell_type": "code",
      "source": [
        "def get_L(m):\n",
        "    L = m.copy()\n",
        "    for i in range(L.shape[0]):\n",
        "            L[i, i] = 1\n",
        "            L[i, i+1 :] = 0\n",
        "    return np.matrix(L)\n",
        "\n",
        "\n",
        "def get_U(m):\n",
        "    U = m.copy()\n",
        "    for i in range(1, U.shape[0]): \n",
        "        U[i, :i] = 0\n",
        "    return U"
      ],
      "metadata": {
        "id": "1Rn9OgzK-UV2"
      },
      "execution_count": 104,
      "outputs": []
    },
    {
      "cell_type": "code",
      "source": [
        "def solve(a, b):\n",
        "    lu_matrix = get_LU(a)\n",
        "    # введем вспомогательный вектор y\n",
        "    y = np.matrix(np.zeros([lu_matrix.shape[0], 1]))\n",
        "    for i in range(y.shape[0]):\n",
        "        y[i, 0] = b[i, 0] - lu_matrix[i, :i] * y[:i]\n",
        "        # print(y)\n",
        "\n",
        "    # вектор решений x\n",
        "    x = np.matrix(np.zeros([lu_matrix.shape[0], 1]))\n",
        "    for i in range(1, x.shape[0] + 1):\n",
        "        x[-i, 0] = (y[-i] - lu_matrix[-i, -i:] * x[-i:, 0] )/ lu_matrix[-i, -i]\n",
        "        # print(x)\n",
        "\n",
        "    return x"
      ],
      "metadata": {
        "id": "S0GWSYPg_iEy"
      },
      "execution_count": 105,
      "outputs": []
    },
    {
      "cell_type": "code",
      "source": [
        "for N in range(3,10):\n",
        "    a = np.random.rand(N, N) \n",
        "    b = np.random.rand(N).reshape(N, 1)\n",
        "\n",
        "    x1 = solve(a, b)\n",
        "    x2 = np.linalg.solve(a, b)\n",
        "\n",
        "    print('N =', N, r' ||x_1 - x_2|| = ', np.linalg.norm(x1 - x2))"
      ],
      "metadata": {
        "colab": {
          "base_uri": "https://localhost:8080/"
        },
        "id": "SmLK5MUmY84c",
        "outputId": "e063b7b1-b184-4b45-e804-8a64cc597f0c"
      },
      "execution_count": 110,
      "outputs": [
        {
          "output_type": "stream",
          "name": "stdout",
          "text": [
            "N = 3  ||x_1 - x_2|| =  4.023360010629817e-14\n",
            "N = 4  ||x_1 - x_2|| =  8.006124532950898e-15\n",
            "N = 5  ||x_1 - x_2|| =  6.557346746077184e-13\n",
            "N = 6  ||x_1 - x_2|| =  1.6509132101775053e-14\n",
            "N = 7  ||x_1 - x_2|| =  5.641418894658524e-15\n",
            "N = 8  ||x_1 - x_2|| =  2.904904431311373e-14\n",
            "N = 9  ||x_1 - x_2|| =  7.673851989161759e-15\n"
          ]
        }
      ]
    }
  ]
}